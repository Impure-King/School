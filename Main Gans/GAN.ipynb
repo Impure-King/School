{
 "cells": [
  {
   "cell_type": "markdown",
   "metadata": {},
   "source": [
    "<h1>Import necessary libraries</h1>"
   ]
  },
  {
   "cell_type": "code",
   "execution_count": null,
   "metadata": {},
   "outputs": [],
   "source": [
    "import os\n",
    "os.environ['TF_CPP_MIN_LOG_LEVEL'] = '3'"
   ]
  },
  {
   "cell_type": "code",
   "execution_count": 2,
   "metadata": {},
   "outputs": [],
   "source": [
    "import tensorflow as tf\n",
    "from tensorflow import keras\n",
    "from tensorflow.keras.layers import Input, Reshape, Dropout, Dense \n",
    "from tensorflow.keras.layers import Flatten, BatchNormalization\n",
    "from tensorflow.keras.layers import Activation\n",
    "from tensorflow.keras.layers import LeakyReLU , ReLU, PReLU\n",
    "from tensorflow.keras.layers import Conv2D ,Conv2DTranspose\n",
    "from tensorflow.keras.models import Sequential, Model, load_model\n",
    "from tensorflow.keras.optimizers import Adam\n",
    "import numpy as np\n",
    "from PIL import Image\n",
    "import os \n",
    "import matplotlib.pyplot as plt\n",
    "\n",
    "# import custom callbacks defined in 'utils/callbacks.py'\n",
    "from utils.callbacks import save_images, checkpoint_callback "
   ]
  },
  {
   "cell_type": "markdown",
   "metadata": {},
   "source": [
    "<h1>Load dataset</h1>"
   ]
  },
  {
   "cell_type": "markdown",
   "metadata": {},
   "source": [
    "We will be using `image_dataset_from_directory` function from keras to load the dataset from the directory which returns a `tf.data.dataset`\n",
    "The dataset is then normalized to a range [-1,1] same as the tanh function"
   ]
  },
  {
   "cell_type": "code",
   "execution_count": 3,
   "metadata": {},
   "outputs": [],
   "source": [
    "data_path = \"images/\""
   ]
  },
  {
   "cell_type": "code",
   "execution_count": 4,
   "metadata": {},
   "outputs": [
    {
     "name": "stdout",
     "output_type": "stream",
     "text": [
      "Found 63565 files belonging to 1 classes.\n"
     ]
    }
   ],
   "source": [
    "# Loading the data from directory:\n",
    "train_ds = tf.keras.preprocessing.image_dataset_from_directory(\n",
    "    data_path, \n",
    "    label_mode=None, \n",
    "    color_mode='rgb',\n",
    "    batch_size=128,\n",
    "    image_size=(96, 96),\n",
    "    shuffle=True\n",
    ")\n",
    "\n",
    "# Mapping some transformations to make the data lighter and easier to prep.\n",
    "train_ds = train_ds.map(lambda x: ((x/127.5)-1)) "
   ]
  },
  {
   "cell_type": "markdown",
   "metadata": {},
   "source": [
    "<h1>Define Generator and Discriminator</h1>"
   ]
  },
  {
   "cell_type": "code",
   "execution_count": 5,
   "metadata": {},
   "outputs": [],
   "source": [
    "# Weights initializer\n",
    "init = tf.keras.initializers.RandomNormal(stddev=0.02)"
   ]
  },
  {
   "cell_type": "code",
   "execution_count": 6,
   "metadata": {},
   "outputs": [],
   "source": [
    "# Building a Generator:\n",
    "def build_generator(seed_size):\n",
    "    \"\"\"\n",
    "    Builds the generator model\n",
    "    \n",
    "    Parameters:\n",
    "        seed_size: size of the random vector fed into the generator\n",
    "    \n",
    "    Returns:\n",
    "        model: keras model representing the generator\n",
    "    \"\"\"\n",
    "    model = Sequential()\n",
    "  \n",
    "    # Block - 1\n",
    "    model.add(Dense(6*6*1024,kernel_initializer=init,input_dim=seed_size))\n",
    "    model.add(BatchNormalization())\n",
    "    model.add(ReLU())\n",
    "    model.add(Reshape((6,6,1024))) # Resulting shape = (6,6,1024) \n",
    "\n",
    "    # Block - 2\n",
    "    model.add(Conv2DTranspose(512,kernel_size=5,strides=2,padding='same',use_bias=False,kernel_initializer=init))\n",
    "    model.add(BatchNormalization())\n",
    "    model.add(ReLU())  # Resulting shape = (12,12,512)\n",
    "\n",
    "    # Block - 3\n",
    "    model.add(Conv2DTranspose(256,kernel_size=5,strides=2,padding='same',use_bias=False,kernel_initializer=init))\n",
    "    model.add(BatchNormalization())\n",
    "    model.add(ReLU()) # Resulting shape = (24,24,256)\n",
    "\n",
    "    # Block - 4\n",
    "    model.add(Conv2DTranspose(128,kernel_size=3,strides=2,padding='same',use_bias=False,kernel_initializer=init))\n",
    "    model.add(BatchNormalization())\n",
    "    model.add(ReLU()) # Resulting shape = (48,48,128)\n",
    "\n",
    "    # Block - 5\n",
    "    model.add(Conv2DTranspose(3,kernel_size=3,strides=2,padding='same',use_bias=False,kernel_initializer=init))\n",
    "    model.add(Activation('tanh')) # Resulting shape = (96,96,3)\n",
    "\n",
    "    return model"
   ]
  },
  {
   "cell_type": "code",
   "execution_count": 7,
   "metadata": {},
   "outputs": [],
   "source": [
    "def build_discriminator(image_length,image_channels):\n",
    "    \n",
    "    \"\"\"\n",
    "    Builds the generator model\n",
    "    \n",
    "    Parameters:\n",
    "        image_length: length of a side of the square image\n",
    "        image_channels: number of channels in the image\n",
    "    \n",
    "    Returns:\n",
    "        model: keras model representing the discriminator\n",
    "    \"\"\"\n",
    "    \n",
    "    model = Sequential()\n",
    "  \n",
    "    # Block - 1\n",
    "    model.add(Conv2D(64,kernel_size=3,strides=2,padding='same',use_bias=False,input_shape=(image_length,image_length,image_channels),kernel_initializer=init))\n",
    "    model.add(LeakyReLU(alpha=0.2)) # Resulting shape = (32,32,64)\n",
    "\n",
    "    # Block - 2\n",
    "    model.add(Conv2D(128,kernel_size=3,strides=2,padding='same',use_bias=False,kernel_initializer=init))\n",
    "    model.add(BatchNormalization())\n",
    "    model.add(LeakyReLU(alpha=0.2)) # Resulting shape = (16,16,128)\n",
    "\n",
    "    # Block - 3\n",
    "    model.add(Conv2D(256,kernel_size=5,strides=2,padding='same',use_bias=False,kernel_initializer=init))\n",
    "    model.add(BatchNormalization())\n",
    "    model.add(LeakyReLU(alpha=0.2)) # Resulting shape = (8,8,256)\n",
    "\n",
    "    # Block - 4\n",
    "    model.add(Conv2D(512,kernel_size=5,strides=2,padding='same',use_bias=False,kernel_initializer=init))\n",
    "    model.add(BatchNormalization())\n",
    "    model.add(LeakyReLU(alpha=0.2)) # Resulting shape = (4,4,512)\n",
    "\n",
    "    # Block - 5\n",
    "    model.add(Conv2D(1,kernel_size=4,strides=1,padding='valid',use_bias=False,kernel_initializer=init))\n",
    "    model.add(Flatten())\n",
    "    model.add(Activation('sigmoid'))\n",
    "\n",
    "    return model"
   ]
  },
  {
   "cell_type": "markdown",
   "metadata": {},
   "source": [
    "<h1>Define Keras Model</h1>"
   ]
  },
  {
   "cell_type": "markdown",
   "metadata": {},
   "source": [
    "As the DCGAN follows a different training step compared to normal feed forward neural networks we can define the training step by first sub-classing the `keras.Model` class and then overwrite the `train_step()` function. By doing so the `model.fit()` function follows our custom training step. This way we would not have to write explicit for-loop for the epochs and keras callbacks can also be used.  \n",
    "\n",
    "Since the generator and discriminator follow CNN architectures, they can be defined using keras `Sequential`. The backpropagation for the generator and discriminator are then taken care of by `tf.GradientTape()`"
   ]
  },
  {
   "cell_type": "markdown",
   "metadata": {},
   "source": [
    "One-sided-label smoothing has been implemented (only for discriminator) to prevent the discriminator from overpowering the generator. Specifying this parameter changes the labels for real images from `1` to `(1-smooth)`. \n",
    "\n",
    "`smooth` parameter defined in the `discriminator_loss()` function takes care of this"
   ]
  },
  {
   "cell_type": "code",
   "execution_count": 8,
   "metadata": {},
   "outputs": [],
   "source": [
    "cross_entropy = tf.keras.losses.BinaryCrossentropy()"
   ]
  },
  {
   "cell_type": "code",
   "execution_count": 9,
   "metadata": {},
   "outputs": [],
   "source": [
    "class DCGAN(keras.Model):\n",
    "    \"\"\"Subclass of the keras.Model class to define custom training step and loss functions\"\"\"\n",
    "    \n",
    "    \n",
    "    def __init__(self,seed_size,image_length,image_channels,**kwargs):\n",
    "        \"\"\"\n",
    "        Parameters:\n",
    "            seed_size: size of the random vector for the generator\n",
    "            image_length: length of a side of the square image\n",
    "            image_channels: number of channels in the image\n",
    "        \"\"\"\n",
    "        super(DCGAN,self).__init__(**kwargs)\n",
    "\n",
    "        self.generator = build_generator(seed_size)\n",
    "        self.discriminator = build_discriminator(image_length,image_channels)\n",
    "        self.seed_size = seed_size\n",
    "        \n",
    "        \n",
    "   # Train generator to give realistic images and penalize it for giving images being classified as fake by the discriminator     \n",
    "    def generator_loss(self,fake_output):\n",
    "        \"\"\"\n",
    "        Parameters:\n",
    "            fake_output: Tensor containing the respective discriminator's predictions for the batch of images produced\n",
    "            by generator (fake iamges).\n",
    "            \n",
    "        Returns:\n",
    "            cross entropy loss between labels for real images (1's) and the discriminator's estimate \n",
    "        \"\"\"\n",
    "        \n",
    "        # The objective is to penalize the generator whenever it produces images which the discriminator classifies as 'fake'\n",
    "        return cross_entropy(tf.ones_like(fake_output), fake_output)\n",
    "\n",
    "       \n",
    "        # smooth parameter is used to induce one sided label smoothing. It can be tuned accordingly\n",
    "    def discriminator_loss(self,real_output, fake_output,smooth=0.1):\n",
    "        \"\"\"\n",
    "        Parameters: \n",
    "            real_output: Tensor containing the respective discriminator's predictions for the batch of images taken from\n",
    "                        the dataset (real images).\n",
    "            fake_output: Tensor containing the respective discriminator's predictions for the batch of images produced\n",
    "                        by generator (fake images).\n",
    "        \n",
    "        Returns:\n",
    "            total_loss: Loss of the discriminator for misclassifying images\n",
    "        \"\"\"\n",
    "        # label for real image is (1-smooth)\n",
    "        real_loss = cross_entropy(tf.ones_like(real_output)*(1-smooth), real_output) \n",
    "        fake_loss = cross_entropy(tf.zeros_like(fake_output), fake_output)\n",
    "        total_loss = real_loss + fake_loss\n",
    "        return total_loss\n",
    "    \n",
    "    def compile(self,generator_optimizer,discriminator_optimizer):\n",
    "        \"\"\"\n",
    "        configures model for training by adding optimizers\n",
    "        \n",
    "        Parameters: \n",
    "            generator_optimizer: keras optimizer to be used to train generator.\n",
    "            discriminator_optimizer: keras optimizer to be used to train discriminator.\n",
    "        \"\"\"\n",
    "        super(DCGAN, self).compile()\n",
    "        self.generator_optimizer = generator_optimizer\n",
    "        self.discriminator_optimizer = discriminator_optimizer\n",
    "        \n",
    "    @tf.function    \n",
    "    def train_step(self,data):\n",
    "        \n",
    "        \"\"\"\n",
    "        Takes in training data and does a forward pass\n",
    "        \n",
    "        Parameters:\n",
    "            data: a batch from the training data.\n",
    "        Returns:\n",
    "            gen_loss: loss associated with the generator.\n",
    "            disc_loss: loss associated with the discriminator.\n",
    "            \n",
    "        \"\"\"\n",
    "            \n",
    "        batch_size = tf.shape(data)[0]\n",
    "        \n",
    "        # feed a random input to generator\n",
    "        seed = tf.random.normal(shape=(batch_size,self.seed_size))\n",
    "        \n",
    "        with tf.GradientTape() as gen_tape, tf.GradientTape() as disc_tape:\n",
    "            \n",
    "            # generate image using generator\n",
    "            generated_image = self.generator(seed, training = True)\n",
    "        \n",
    "            # discriminator's prediction for real image\n",
    "            real_output = self.discriminator(data,training = True)\n",
    "            \n",
    "            # discriminator's estimate for fake image\n",
    "            fake_output = self.discriminator(generated_image,training = True) \n",
    "            \n",
    "            # compute loss\n",
    "            gen_loss = self.generator_loss(fake_output)\n",
    "            disc_loss = self.discriminator_loss(real_output,fake_output)\n",
    "\n",
    "            # optimize generator first\n",
    "            generator_grad = gen_tape.gradient(gen_loss,self.generator.trainable_variables)\n",
    "            discriminator_grad = disc_tape.gradient(disc_loss,self.discriminator.trainable_variables)\n",
    "\n",
    "            # optimize discriminator after generator\n",
    "            self.generator_optimizer.apply_gradients(zip(generator_grad,self.generator.trainable_variables))\n",
    "            self.discriminator_optimizer.apply_gradients(zip(discriminator_grad,self.discriminator.trainable_variables))\n",
    "        \n",
    "        return {\n",
    "            \"generator loss\": gen_loss,\n",
    "            \"discriminator_loss\": disc_loss\n",
    "        }"
   ]
  },
  {
   "cell_type": "markdown",
   "metadata": {},
   "source": [
    "While training, two custom callbacks `save_images` and `checkpoint_callback` which are defined in `utils/callbacks.py`.\n",
    "\n",
    "1. `save_images`: The callback saves images to the disk by the generator using a fixed random normal seed (`fixed_seed`). This way the progress of the generator can be monitored every epoch. It generates a grid of `NUM_ROWS` \\* `NUM_COLS` number of images with a margin set by `MARGIN`.  \n",
    "\n",
    "\n",
    "2. `checkpoint_callback`: This callback periodically saves the weights of the generator and discriminator every epoch. This is done to help saving the DCGAN's progress if training is stopped accidentally"
   ]
  },
  {
   "cell_type": "code",
   "execution_count": 10,
   "metadata": {},
   "outputs": [
    {
     "ename": "",
     "evalue": "",
     "output_type": "error",
     "traceback": [
      "\u001b[1;31mThe Kernel crashed while executing code in the the current cell or a previous cell. Please review the code in the cell(s) to identify a possible cause of the failure. Click <a href='https://aka.ms/vscodeJupyterKernelCrash'>here</a> for more info. View Jupyter <a href='command:jupyter.viewOutput'>log</a> for further details."
     ]
    },
    {
     "ename": "",
     "evalue": "",
     "output_type": "error",
     "traceback": [
      "\u001b[1;31mCanceled future for execute_request message before replies were done"
     ]
    }
   ],
   "source": [
    "# parameters and hyperparameters\n",
    "image_length = 96\n",
    "image_channels = 3\n",
    "batch_size = 128\n",
    "seed_size = 128\n",
    "\n",
    "NUM_ROWS = 4  \n",
    "NUM_COLS = 7\n",
    "MARGIN = 16\n",
    "\n",
    "# Ideally, a model is just matrix multiplication, so having the same noise will generate the same images. That is why I am setting a seed.\n",
    "fixed_seed = tf.random.normal(shape=(NUM_ROWS * NUM_COLS, seed_size))"
   ]
  },
  {
   "cell_type": "markdown",
   "metadata": {},
   "source": [
    "### Initialize the DCGAN"
   ]
  },
  {
   "cell_type": "code",
   "execution_count": null,
   "metadata": {},
   "outputs": [],
   "source": [
    "generator_optimizer = Adam(learning_rate=0.0002,beta_1=0.5)\n",
    "discriminator_optimizer = Adam(learning_rate=0.0002,beta_1=0.5)\n",
    "\n",
    "dcgan = DCGAN(seed_size,image_length,image_channels)\n",
    "dcgan.compile(generator_optimizer,discriminator_optimizer)"
   ]
  },
  {
   "cell_type": "markdown",
   "metadata": {},
   "source": [
    "<h1>Training</h1>"
   ]
  },
  {
   "cell_type": "code",
   "execution_count": null,
   "metadata": {},
   "outputs": [],
   "source": [
    "with tf.device('/GPU:0'):\n",
    "    \n",
    "    #uncomment the next two lines if not training from scratch\n",
    "    dcgan.generator.load(\"Weights/generator\")\n",
    "    dcgan.discriminator.load(\"Weights/discriminator\")\n",
    "    \n",
    "    history = dcgan.fit(train_ds,epochs=18,batch_size=batch_size,\n",
    "                        callbacks=[\n",
    "                            save_images(noise=fixed_seed,num_rows=NUM_ROWS,num_cols=NUM_COLS,margin=MARGIN),\n",
    "                            checkpoint_callback()\n",
    "                        ])"
   ]
  },
  {
   "cell_type": "code",
   "execution_count": null,
   "metadata": {},
   "outputs": [],
   "source": [
    "import tensorflow as tf"
   ]
  },
  {
   "cell_type": "markdown",
   "metadata": {},
   "source": [
    "<h1>Testing</h1>"
   ]
  },
  {
   "cell_type": "code",
   "execution_count": null,
   "metadata": {},
   "outputs": [],
   "source": [
    "dcgan.generator.load_weights(\"Weights/generator_weights-test.h5\")\n",
    "dcgan.discriminator.load_weights(\"Weights/discriminator_weights-test.h5\")"
   ]
  },
  {
   "cell_type": "code",
   "execution_count": null,
   "metadata": {},
   "outputs": [],
   "source": [
    "\n",
    "def generate_faces():\n",
    "    \"\"\"Generates random Anime faces\"\"\"\n",
    "    \n",
    "    # generate 64 images by giving 64 inputs\n",
    "    noise = tf.random.normal([64,seed_size])\n",
    "    generated_images = dcgan.generator(noise)\n",
    "\n",
    "    fig = plt.figure(figsize=(12,12))\n",
    "    for i in range(generated_images.shape[0]):\n",
    "        plt.subplot(8,8,i+1)\n",
    "        # Convert to range [0,1] for plt.imshow()\n",
    "        plt.imshow((generated_images[i,:,:,:]*0.5+0.5))\n",
    "        plt.axis(\"off\")\n",
    "    plt.show()"
   ]
  },
  {
   "cell_type": "code",
   "execution_count": null,
   "metadata": {},
   "outputs": [],
   "source": [
    "generate_faces()"
   ]
  },
  {
   "cell_type": "code",
   "execution_count": null,
   "metadata": {},
   "outputs": [],
   "source": []
  }
 ],
 "metadata": {
  "kernelspec": {
   "display_name": "TensorFlow",
   "language": "python",
   "name": "python3"
  },
  "language_info": {
   "codemirror_mode": {
    "name": "ipython",
    "version": 3
   },
   "file_extension": ".py",
   "mimetype": "text/x-python",
   "name": "python",
   "nbconvert_exporter": "python",
   "pygments_lexer": "ipython3",
   "version": "3.10.8 | packaged by conda-forge | (main, Nov 22 2022, 08:23:14) [GCC 10.4.0]"
  },
  "vscode": {
   "interpreter": {
    "hash": "96f15de52aa37c9b354eca37d7e2719c69267d54944717e5178beed509292a45"
   }
  }
 },
 "nbformat": 4,
 "nbformat_minor": 4
}
