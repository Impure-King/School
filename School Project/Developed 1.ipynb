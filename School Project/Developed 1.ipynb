{
 "cells": [
  {
   "cell_type": "code",
   "execution_count": 1,
   "metadata": {},
   "outputs": [],
   "source": [
    "import os\n",
    "os.environ[\"TF_CPP_MIN_LOG_LEVEL\"] = '3'"
   ]
  },
  {
   "cell_type": "code",
   "execution_count": 2,
   "metadata": {},
   "outputs": [
    {
     "name": "stdout",
     "output_type": "stream",
     "text": [
      "WARNING:tensorflow:From /tmp/ipykernel_30246/1010137838.py:5: is_gpu_available (from tensorflow.python.framework.test_util) is deprecated and will be removed in a future version.\n",
      "Instructions for updating:\n",
      "Use `tf.config.list_physical_devices('GPU')` instead.\n"
     ]
    },
    {
     "data": {
      "text/plain": [
       "('2.10.0', '2.10.0', True)"
      ]
     },
     "execution_count": 2,
     "metadata": {},
     "output_type": "execute_result"
    }
   ],
   "source": [
    "# Importing the libraries:\n",
    "import tensorflow as tf\n",
    "from tensorflow import keras\n",
    "import numpy as np\n",
    "tf.__version__, keras.__version__, tf.test.is_gpu_available()"
   ]
  },
  {
   "cell_type": "markdown",
   "metadata": {},
   "source": [
    "# Prepping the Images:"
   ]
  },
  {
   "cell_type": "code",
   "execution_count": 3,
   "metadata": {},
   "outputs": [
    {
     "name": "stdout",
     "output_type": "stream",
     "text": [
      "Found 21551 files belonging to 1 classes.\n"
     ]
    }
   ],
   "source": [
    "# Using a function to automate image loading and transformations:\n",
    "path = \"data/\"\n",
    "\n",
    "data = tf.keras.preprocessing.image_dataset_from_directory(\n",
    "    path,\n",
    "    label_mode = None, # To ensure that it doesn't throw me an error and retrieves all the images.\n",
    "    color_mode = \"rgb\",\n",
    "    batch_size = 32,\n",
    "    image_size = (96, 96),\n",
    "    shuffle = True,\n",
    "    \n",
    ")\n",
    "data = data.unbatch()\n",
    "data = data.batch(32, drop_remainder = True)\n",
    "for img in data:\n",
    "    img = tf.cast(img, tf.float32)/255."
   ]
  },
  {
   "cell_type": "code",
   "execution_count": 4,
   "metadata": {},
   "outputs": [],
   "source": [
    "# Creating some more variables:\n",
    "coding_size = 96\n",
    "optimizer = tf.keras.optimizers.Nadam(learning_rate = 0.0005)\n",
    "loss = tf.keras.losses.binary_crossentropy\n",
    "batch_size = 32"
   ]
  },
  {
   "cell_type": "markdown",
   "metadata": {},
   "source": [
    "# Creating a GAN:"
   ]
  },
  {
   "cell_type": "code",
   "execution_count": 5,
   "metadata": {},
   "outputs": [],
   "source": [
    "from tensorflow.keras import Sequential\n",
    "from tensorflow.keras.layers import Dense, Conv2D, BatchNormalization, LeakyReLU, ReLU, Reshape, Conv2DTranspose, Activation, Flatten"
   ]
  },
  {
   "cell_type": "code",
   "execution_count": 6,
   "metadata": {},
   "outputs": [],
   "source": [
    "# Weights initializer\n",
    "init = tf.keras.initializers.RandomNormal(stddev=0.02)"
   ]
  },
  {
   "cell_type": "code",
   "execution_count": 7,
   "metadata": {},
   "outputs": [],
   "source": [
    "def build_generator(seed_size):\n",
    "    \"\"\"\n",
    "    Builds the generator model\n",
    "    \n",
    "    Parameters:\n",
    "        seed_size: size of the random vector fed into the generator\n",
    "    \n",
    "    Returns:\n",
    "        model: keras model representing the generator\n",
    "    \"\"\"\n",
    "    model = Sequential()\n",
    "  \n",
    "    # Block - 1\n",
    "    model.add(Dense(6*6*1024,kernel_initializer=init,input_dim=seed_size))\n",
    "    model.add(BatchNormalization())\n",
    "    model.add(ReLU())\n",
    "    model.add(Reshape((6,6,1024))) # Resulting shape = (6,6,1024) \n",
    "\n",
    "    # Block - 2\n",
    "    model.add(Conv2DTranspose(512,kernel_size=5,strides=2,padding='same',use_bias=False,kernel_initializer=init))\n",
    "    model.add(BatchNormalization())\n",
    "    model.add(ReLU())  # Resulting shape = (12,12,512)\n",
    "\n",
    "    # Block - 3\n",
    "    model.add(Conv2DTranspose(256,kernel_size=5,strides=2,padding='same',use_bias=False,kernel_initializer=init))\n",
    "    model.add(BatchNormalization())\n",
    "    model.add(ReLU()) # Resulting shape = (24,24,256)\n",
    "\n",
    "    # Block - 4\n",
    "    model.add(Conv2DTranspose(128,kernel_size=3,strides=2,padding='same',use_bias=False,kernel_initializer=init))\n",
    "    model.add(BatchNormalization())\n",
    "    model.add(ReLU()) # Resulting shape = (48,48,128)\n",
    "\n",
    "    # Block - 5\n",
    "    model.add(Conv2DTranspose(3,kernel_size=3,strides=2,padding='same',use_bias=False,kernel_initializer=init))\n",
    "    model.add(Activation('tanh')) # Resulting shape = (96,96,3)\n",
    "\n",
    "    return model"
   ]
  },
  {
   "cell_type": "code",
   "execution_count": 8,
   "metadata": {},
   "outputs": [],
   "source": [
    "def build_discriminator(image_length,image_channels):\n",
    "    \n",
    "    \"\"\"\n",
    "    Builds the generator model\n",
    "    \n",
    "    Parameters:\n",
    "        image_length: length of a side of the square image\n",
    "        image_channels: number of channels in the image\n",
    "    \n",
    "    Returns:\n",
    "        model: keras model representing the discriminator\n",
    "    \"\"\"\n",
    "    \n",
    "    model = Sequential()\n",
    "  \n",
    "    # Block - 1\n",
    "    model.add(Conv2D(64,kernel_size=3,strides=2,padding='same',use_bias=False,input_shape=(image_length,image_length,image_channels),kernel_initializer=init))\n",
    "    model.add(LeakyReLU(alpha=0.2)) # Resulting shape = (48,48,64)\n",
    "\n",
    "    # Block - 2\n",
    "    model.add(Conv2D(128,kernel_size=3,strides=2,padding='same',use_bias=False,kernel_initializer=init))\n",
    "    model.add(BatchNormalization())\n",
    "    model.add(LeakyReLU(alpha=0.2)) # Resulting shape = (24,24,128)\n",
    "\n",
    "    # Block - 3\n",
    "    model.add(Conv2D(256,kernel_size=5,strides=2,padding='same',use_bias=False,kernel_initializer=init))\n",
    "    model.add(BatchNormalization())\n",
    "    model.add(LeakyReLU(alpha=0.2)) # Resulting shape = (12,12,256)\n",
    "\n",
    "    # Block - 4\n",
    "    model.add(Conv2D(512,kernel_size=5,strides=2,padding='same',use_bias=False,kernel_initializer=init))\n",
    "    model.add(BatchNormalization())\n",
    "    model.add(LeakyReLU(alpha=0.2)) # Resulting shape = (6,6,512)\n",
    "\n",
    "    # Block - 5\n",
    "    model.add(Conv2D(1,kernel_size=4,strides=1,padding='valid',use_bias=False,kernel_initializer=init))\n",
    "    model.add(Flatten())\n",
    "    model.add(Activation('sigmoid'))\n",
    "\n",
    "    return model"
   ]
  },
  {
   "cell_type": "code",
   "execution_count": 9,
   "metadata": {},
   "outputs": [
    {
     "name": "stderr",
     "output_type": "stream",
     "text": [
      "/home/impureking/miniconda3/envs/TensorFlow/lib/python3.10/site-packages/keras/initializers/initializers_v2.py:120: UserWarning: The initializer RandomNormal is unseeded and being called multiple times, which will return identical values  each time (even if the initializer is unseeded). Please update your code to provide a seed to the initializer, or avoid using the same initalizer instance more than once.\n",
      "  warnings.warn(\n"
     ]
    }
   ],
   "source": [
    "# Creating a gan:\n",
    "generator = build_generator(coding_size)\n",
    "discriminator = build_discriminator(96, 3)\n",
    "gan = keras.models.Sequential([generator, discriminator])"
   ]
  },
  {
   "attachments": {},
   "cell_type": "markdown",
   "metadata": {},
   "source": [
    "## Creating Custom Loss Functions"
   ]
  },
  {
   "cell_type": "code",
   "execution_count": 10,
   "metadata": {},
   "outputs": [],
   "source": [
    "def discriminator_loss(real_output, fake_output, loss_fn = loss):\n",
    "    real_loss = loss_fn(tf.ones_like(real_output), real_output)\n",
    "    fake_loss = loss_fn(tf.zeros_like(fake_output), fake_output)\n",
    "    total = real_loss + fake_loss\n",
    "    return total"
   ]
  },
  {
   "cell_type": "code",
   "execution_count": 11,
   "metadata": {},
   "outputs": [],
   "source": [
    "# Creating an generator loss:\n",
    "def generator_loss(fake_output, loss_fn = loss):\n",
    "    return loss_fn(tf.ones_like(fake_output), fake_output)"
   ]
  },
  {
   "cell_type": "markdown",
   "metadata": {},
   "source": [
    "# Training the GAN:"
   ]
  },
  {
   "cell_type": "code",
   "execution_count": 12,
   "metadata": {},
   "outputs": [],
   "source": [
    "# Creating a image plotter:\n",
    "def plot(x_train, image_no = 1, no = 1):\n",
    "    for i in tf.range(image_no):\n",
    "        img = x_train[i]\n",
    "        img = tf.keras.preprocessing.image.array_to_img(img)\n",
    "        img.show()\n",
    "        img.save(\"Progress/image{}.jpg\".format(no))\n"
   ]
  },
  {
   "cell_type": "code",
   "execution_count": 13,
   "metadata": {},
   "outputs": [],
   "source": [
    "# Creating an custom callback:\n",
    "def Checkpoint(model):\n",
    "    model.save(\"Checkpoints/GAN\")"
   ]
  },
  {
   "cell_type": "code",
   "execution_count": 14,
   "metadata": {},
   "outputs": [],
   "source": [
    "# General Step:\n",
    "def gtrain_step(model, x, y, loss_fn = generator_loss, optimizer = optimizer):\n",
    "    with tf.GradientTape() as tape:\n",
    "        y_pred = model(x)\n",
    "        loss = loss_fn(y_pred)\n",
    "    grads = tape.gradient(loss, model.trainable_variables)\n",
    "    optimizer.apply_gradients(zip(grads, model.trainable_variables))"
   ]
  },
  {
   "cell_type": "code",
   "execution_count": 15,
   "metadata": {},
   "outputs": [],
   "source": [
    "def dtrain_step(model, x, y, loss_fn = discriminator_loss, optimizer = optimizer):\n",
    "    with tf.GradientTape() as tape:\n",
    "        y_pred = model(x)\n",
    "        loss = loss_fn(fake_output = y_pred, real_output = y)\n",
    "    grads = tape.gradient(loss, model.trainable_variables)\n",
    "    optimizer.apply_gradients(zip(grads, model.trainable_variables))"
   ]
  },
  {
   "cell_type": "code",
   "execution_count": 16,
   "metadata": {},
   "outputs": [],
   "source": [
    "#  Discriminator step:\n",
    "@tf.function\n",
    "def train_d(model, noise, x_batch, batch_size = batch_size):\n",
    "    generator, discriminator = model.layers\n",
    "    predictions = generator(noise)\n",
    "    inputs = tf.concat([predictions, x_batch], axis = 0)\n",
    "    y = tf.constant([[0.]] * batch_size + [[1.]] * batch_size)\n",
    "    discriminator.trainable = True\n",
    "    dtrain_step(discriminator, inputs, y)"
   ]
  },
  {
   "cell_type": "code",
   "execution_count": 17,
   "metadata": {},
   "outputs": [],
   "source": [
    "# Generator step:\n",
    "@tf.function\n",
    "def train_g(model, noise, batch_size = batch_size):\n",
    "    discriminator = model.layers[1]\n",
    "    discriminator.trainable = False\n",
    "    y = tf.constant([[1.]] * batch_size)\n",
    "    gtrain_step(model, noise, y)"
   ]
  },
  {
   "cell_type": "code",
   "execution_count": 18,
   "metadata": {},
   "outputs": [],
   "source": [
    "# Predicting values:\n",
    "def predict(model, epoch, batch_size = batch_size, coding_size = coding_size):\n",
    "    noise = tf.random.normal([batch_size, coding_size])\n",
    "    generator = model.layers[0]\n",
    "    predictions = generator(noise)\n",
    "    plot(predictions, no = epoch)"
   ]
  },
  {
   "cell_type": "code",
   "execution_count": 19,
   "metadata": {},
   "outputs": [
    {
     "name": "stdout",
     "output_type": "stream",
     "text": [
      "Epochs 1 started.\n",
      "Epochs 2 started.\n",
      "Epochs 3 started.\n"
     ]
    }
   ],
   "source": [
    "# Training Loop:\n",
    "epochs = 20\n",
    "for epoch in range(epochs):\n",
    "    print(f\"Epochs {epoch + 1} started.\")\n",
    "    for x_batch in data:\n",
    "        # Training the Discriminator:\n",
    "        noise = tf.random.normal([batch_size, coding_size])\n",
    "        train_d(gan, noise, x_batch)\n",
    "        # Training the Generator:\n",
    "        noise = tf.random.normal([batch_size, coding_size])\n",
    "        train_g(gan, noise)\n",
    "    predict(gan, epoch)"
   ]
  },
  {
   "cell_type": "code",
   "execution_count": null,
   "metadata": {},
   "outputs": [],
   "source": []
  }
 ],
 "metadata": {
  "kernelspec": {
   "display_name": "TensorFlow",
   "language": "python",
   "name": "python3"
  },
  "language_info": {
   "codemirror_mode": {
    "name": "ipython",
    "version": 3
   },
   "file_extension": ".py",
   "mimetype": "text/x-python",
   "name": "python",
   "nbconvert_exporter": "python",
   "pygments_lexer": "ipython3",
   "version": "3.10.8"
  },
  "orig_nbformat": 4,
  "vscode": {
   "interpreter": {
    "hash": "96f15de52aa37c9b354eca37d7e2719c69267d54944717e5178beed509292a45"
   }
  }
 },
 "nbformat": 4,
 "nbformat_minor": 2
}
