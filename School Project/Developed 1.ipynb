{
 "cells": [
  {
   "cell_type": "code",
   "execution_count": 1,
   "metadata": {},
   "outputs": [],
   "source": [
    "import os\n",
    "os.environ[\"TF_CPP_MIN_LOG_LEVEL\"] = '3'"
   ]
  },
  {
   "cell_type": "code",
   "execution_count": 2,
   "metadata": {},
   "outputs": [
    {
     "data": {
      "text/plain": [
       "('2.10.0', '2.10.0')"
      ]
     },
     "execution_count": 2,
     "metadata": {},
     "output_type": "execute_result"
    }
   ],
   "source": [
    "# Importing the libraries:\n",
    "import tensorflow as tf\n",
    "from tensorflow import keras\n",
    "import numpy as np\n",
    "tf.__version__, keras.__version__"
   ]
  },
  {
   "cell_type": "markdown",
   "metadata": {},
   "source": [
    "# Prepping the Images:"
   ]
  },
  {
   "cell_type": "code",
   "execution_count": 3,
   "metadata": {},
   "outputs": [
    {
     "name": "stdout",
     "output_type": "stream",
     "text": [
      "Found 63565 files belonging to 1 classes.\n"
     ]
    }
   ],
   "source": [
    "# Using a function to automate image loading and transformations:\n",
    "path = \"images/\"\n",
    "\n",
    "data = tf.keras.preprocessing.image_dataset_from_directory(\n",
    "    path,\n",
    "    label_mode = None, # To ensure that it doesn't throw me an error and retrieves all the images.\n",
    "    color_mode = \"rgb\",\n",
    "    batch_size = 128,\n",
    "    image_size = (100, 100),\n",
    "    shuffle = True\n",
    ")\n",
    "data = data.unbatch()\n",
    "data = data.batch(128, drop_remainder = True)"
   ]
  },
  {
   "cell_type": "code",
   "execution_count": 4,
   "metadata": {},
   "outputs": [],
   "source": [
    "# Creating some more variables:\n",
    "coding_size = 128\n",
    "optimizer = tf.keras.optimizers.Nadam(learning_rate = 0.0002, beta_1 = 0.5)\n",
    "loss = tf.keras.losses.binary_crossentropy\n",
    "batch_size = 128"
   ]
  },
  {
   "cell_type": "markdown",
   "metadata": {},
   "source": [
    "# Creating a GAN:"
   ]
  },
  {
   "cell_type": "code",
   "execution_count": 5,
   "metadata": {},
   "outputs": [],
   "source": [
    "# Sequential generator:\n",
    "generator = keras.models.Sequential([\n",
    "    keras.layers.Dense(5 * 5 * 1024, input_shape = [coding_size]),\n",
    "    keras.layers.Reshape([5, 5, 1024]),\n",
    "    keras.layers.BatchNormalization(),\n",
    "    keras.layers.Conv2DTranspose(64, kernel_size = 5, strides = 2, padding = \"same\", activation = 'selu'),\n",
    "    keras.layers.BatchNormalization(),\n",
    "    keras.layers.Conv2DTranspose(128, kernel_size = 5, strides = 5, padding = \"same\", activation = 'selu'),\n",
    "    keras.layers.BatchNormalization(),\n",
    "    keras.layers.Conv2DTranspose(3, kernel_size = 5, strides = 2, padding = \"same\", activation = \"tanh\")\n",
    "])"
   ]
  },
  {
   "cell_type": "code",
   "execution_count": 6,
   "metadata": {},
   "outputs": [],
   "source": [
    "# Sequential discriminator:\n",
    "discriminator = keras.models.Sequential([\n",
    "    keras.layers.Conv2D(64, kernel_size = 5, strides  = 2, padding = \"same\", activation = tf.keras.layers.LeakyReLU(0.2), input_shape = [100, 100, 3]),\n",
    "    keras.layers.Dropout(0.4),\n",
    "    keras.layers.Conv2D(128, kernel_size = 5, strides = 2, padding = \"same\", activation = tf.keras.layers.LeakyReLU(0.2)),\n",
    "    keras.layers.Dropout(0.4),\n",
    "    keras.layers.Conv2D(256, kernel_size = 5, strides  = 2, padding = \"same\", activation = tf.keras.layers.LeakyReLU(0.2)),\n",
    "    keras.layers.Flatten(),\n",
    "    keras.layers.Dense(1, activation = \"sigmoid\")\n",
    "])"
   ]
  },
  {
   "cell_type": "code",
   "execution_count": 7,
   "metadata": {},
   "outputs": [],
   "source": [
    "# Creating a gan:\n",
    "gan = keras.models.Sequential([generator, discriminator])"
   ]
  },
  {
   "cell_type": "markdown",
   "metadata": {},
   "source": [
    "# Training the GAN:"
   ]
  },
  {
   "cell_type": "code",
   "execution_count": 8,
   "metadata": {},
   "outputs": [],
   "source": [
    "# Creating a image plotter:\n",
    "def plot(x_train, image_no = 1):\n",
    "    for i in tf.range(image_no):\n",
    "        img = x_train[i]\n",
    "        img = tf.keras.preprocessing.image.array_to_img(img)\n",
    "        img.show()\n"
   ]
  },
  {
   "cell_type": "code",
   "execution_count": 9,
   "metadata": {},
   "outputs": [],
   "source": [
    "# Creating an custom callback:\n",
    "def Checkpoint(model):\n",
    "    model.save(\"Checkpoints/GAN.h5\")"
   ]
  },
  {
   "cell_type": "code",
   "execution_count": 10,
   "metadata": {},
   "outputs": [],
   "source": [
    "# General Step:\n",
    "def train_step(model, x, y, loss_fn = loss, optimizer = optimizer):\n",
    "    with tf.GradientTape() as tape:\n",
    "        y_pred = model(x)\n",
    "        loss = loss_fn(y_pred = y_pred, y_true = y)\n",
    "    grads = tape.gradient(loss, model.trainable_variables)\n",
    "    optimizer.apply_gradients(zip(grads, model.trainable_variables))"
   ]
  },
  {
   "cell_type": "code",
   "execution_count": 11,
   "metadata": {},
   "outputs": [],
   "source": [
    "#  Discriminator step:\n",
    "@tf.function\n",
    "def train_d(model, noise, x_batch, batch_size = batch_size):\n",
    "    generator, discriminator = model.layers\n",
    "    predictions = generator(noise)\n",
    "    inputs = tf.concat([predictions, x_batch], axis = 0)\n",
    "    y = tf.constant([[0.]] * batch_size + [[1.]] * batch_size)\n",
    "    discriminator.trainable = True\n",
    "    train_step(discriminator, inputs, y)"
   ]
  },
  {
   "cell_type": "code",
   "execution_count": 12,
   "metadata": {},
   "outputs": [],
   "source": [
    "# Generator step:\n",
    "@tf.function\n",
    "def train_g(model, noise, x_batch, batch_size = batch_size):\n",
    "    discriminator = model.layers[1]\n",
    "    discriminator.trainable = False\n",
    "    y = tf.constant([[1]] * batch_size)\n",
    "    train_step(model, noise, y)"
   ]
  },
  {
   "cell_type": "code",
   "execution_count": 13,
   "metadata": {},
   "outputs": [],
   "source": [
    "# Predicting values:\n",
    "def predict(model, batch_size = batch_size, coding_size = coding_size):\n",
    "    noise = tf.random.normal([batch_size, coding_size])\n",
    "    generator = model.layers[0]\n",
    "    predictions = generator(noise)\n",
    "    plot(predictions)"
   ]
  },
  {
   "cell_type": "code",
   "execution_count": 14,
   "metadata": {},
   "outputs": [
    {
     "name": "stdout",
     "output_type": "stream",
     "text": [
      "Epochs 1 passed.\n",
      "WARNING:tensorflow:Compiled the loaded model, but the compiled metrics have yet to be built. `model.compile_metrics` will be empty until you train or evaluate the model.\n"
     ]
    },
    {
     "name": "stderr",
     "output_type": "stream",
     "text": [
      "WARNING:tensorflow:Compiled the loaded model, but the compiled metrics have yet to be built. `model.compile_metrics` will be empty until you train or evaluate the model.\n"
     ]
    },
    {
     "name": "stdout",
     "output_type": "stream",
     "text": [
      "Epochs 2 passed.\n",
      "WARNING:tensorflow:Compiled the loaded model, but the compiled metrics have yet to be built. `model.compile_metrics` will be empty until you train or evaluate the model.\n"
     ]
    },
    {
     "name": "stderr",
     "output_type": "stream",
     "text": [
      "WARNING:tensorflow:Compiled the loaded model, but the compiled metrics have yet to be built. `model.compile_metrics` will be empty until you train or evaluate the model.\n"
     ]
    },
    {
     "name": "stdout",
     "output_type": "stream",
     "text": [
      "Epochs 3 passed.\n",
      "WARNING:tensorflow:Compiled the loaded model, but the compiled metrics have yet to be built. `model.compile_metrics` will be empty until you train or evaluate the model.\n"
     ]
    },
    {
     "name": "stderr",
     "output_type": "stream",
     "text": [
      "WARNING:tensorflow:Compiled the loaded model, but the compiled metrics have yet to be built. `model.compile_metrics` will be empty until you train or evaluate the model.\n",
      "\n",
      "(eog:9497): Gtk-WARNING **: 07:22:27.066: Negative content width -1 (allocation 23, extents 12x12) while allocating gadget (node label, owner GtkLabel)\n"
     ]
    }
   ],
   "source": [
    "# Training Loop:\n",
    "epochs = 5\n",
    "for epoch in range(epochs):\n",
    "    for x_batch in data:\n",
    "        # Training the Discriminator:\n",
    "        noise = tf.random.normal([batch_size, coding_size])\n",
    "        train_d(gan, noise, x_batch)\n",
    "        # Training the Generator:\n",
    "        noise = tf.random.normal([batch_size, coding_size])\n",
    "        train_g(gan, noise, x_batch)\n",
    "    print(f\"Epochs {epoch + 1} passed.\")\n",
    "    predict(gan)\n",
    "    Checkpoint(gan)"
   ]
  }
 ],
 "metadata": {
  "kernelspec": {
   "display_name": "Python 3.10.8 ('TensorFlowV2')",
   "language": "python",
   "name": "python3"
  },
  "language_info": {
   "codemirror_mode": {
    "name": "ipython",
    "version": 3
   },
   "file_extension": ".py",
   "mimetype": "text/x-python",
   "name": "python",
   "nbconvert_exporter": "python",
   "pygments_lexer": "ipython3",
   "version": "3.10.8"
  },
  "orig_nbformat": 4,
  "vscode": {
   "interpreter": {
    "hash": "c18c74d3e5b7c71fb88898c260e2de6a72b60b6a8afbb2c28501c4756fc30535"
   }
  }
 },
 "nbformat": 4,
 "nbformat_minor": 2
}
