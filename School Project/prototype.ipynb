{
 "cells": [
  {
   "cell_type": "code",
   "execution_count": 1,
   "metadata": {},
   "outputs": [],
   "source": [
    "import os\n",
    "os.environ[\"TF_CPP_MIN_LOG_LEVEL\"] = '3'"
   ]
  },
  {
   "cell_type": "code",
   "execution_count": 2,
   "metadata": {},
   "outputs": [
    {
     "data": {
      "text/plain": [
       "('2.10.0',\n",
       " '2.10.0',\n",
       " [PhysicalDevice(name='/physical_device:GPU:0', device_type='GPU')])"
      ]
     },
     "execution_count": 2,
     "metadata": {},
     "output_type": "execute_result"
    }
   ],
   "source": [
    "# Importing the libraries:\n",
    "import tensorflow as tf\n",
    "from tensorflow import keras\n",
    "import numpy as np\n",
    "tf.__version__, keras.__version__, tf.config.list_physical_devices(\"GPU\")"
   ]
  },
  {
   "cell_type": "code",
   "execution_count": 3,
   "metadata": {},
   "outputs": [
    {
     "data": {
      "image/png": "[encoded data removed]",
      "text/plain": [
       "<PIL.JpegImagePlugin.JpegImageFile image mode=RGB size=63x63>"
      ]
     },
     "execution_count": 3,
     "metadata": {},
     "output_type": "execute_result"
    }
   ],
   "source": [
    "# Testing image data:\n",
    "data_dir = r'images/0_2000.jpg'\n",
    "Load_image = tf.keras.preprocessing.image.load_img(data_dir)\n",
    "Load_image"
   ]
  },
  {
   "cell_type": "markdown",
   "metadata": {},
   "source": [
    "# Prepping the Images:"
   ]
  },
  {
   "cell_type": "code",
   "execution_count": 4,
   "metadata": {},
   "outputs": [],
   "source": [
    "# Creating a set of transformations for images:\n",
    "@tf.function\n",
    "def transform(image):\n",
    "    img = tf.image.resize_with_crop_or_pad(image, 100, 100)\n",
    "    img = img/255.\n",
    "    return img"
   ]
  },
  {
   "cell_type": "code",
   "execution_count": 5,
   "metadata": {},
   "outputs": [],
   "source": [
    "# Creating a function to automate image loading:\n",
    "def load_img(path = os.path.join(\"images\")):\n",
    "    all_img = os.listdir(path)\n",
    "    list = []\n",
    "    j = 0\n",
    "    for i in all_img:\n",
    "        cur_img = tf.keras.preprocessing.image.load_img(os.path.join(path, i))\n",
    "        app_img = tf.keras.preprocessing.image.img_to_array(cur_img)\n",
    "        img = transform(app_img)\n",
    "        list.append(img)\n",
    "        j += 1\n",
    "        if j == 10000:\n",
    "            return np.array(list, dtype = np.float32)"
   ]
  },
  {
   "cell_type": "code",
   "execution_count": 6,
   "metadata": {},
   "outputs": [
    {
     "name": "stdout",
     "output_type": "stream",
     "text": [
      "WARNING:tensorflow:5 out of the last 5 calls to <function transform at 0x7f8ca5d636d0> triggered tf.function retracing. Tracing is expensive and the excessive number of tracings could be due to (1) creating @tf.function repeatedly in a loop, (2) passing tensors with different shapes, (3) passing Python objects instead of tensors. For (1), please define your @tf.function outside of the loop. For (2), @tf.function has reduce_retracing=True option that can avoid unnecessary retracing. For (3), please refer to https://www.tensorflow.org/guide/function#controlling_retracing and https://www.tensorflow.org/api_docs/python/tf/function for  more details.\n",
      "WARNING:tensorflow:6 out of the last 7 calls to <function transform at 0x7f8ca5d636d0> triggered tf.function retracing. Tracing is expensive and the excessive number of tracings could be due to (1) creating @tf.function repeatedly in a loop, (2) passing tensors with different shapes, (3) passing Python objects instead of tensors. For (1), please define your @tf.function outside of the loop. For (2), @tf.function has reduce_retracing=True option that can avoid unnecessary retracing. For (3), please refer to https://www.tensorflow.org/guide/function#controlling_retracing and https://www.tensorflow.org/api_docs/python/tf/function for  more details.\n"
     ]
    }
   ],
   "source": [
    "data = load_img()"
   ]
  },
  {
   "cell_type": "code",
   "execution_count": 7,
   "metadata": {},
   "outputs": [],
   "source": [
    "# Creating a image plotter:\n",
    "def plot(x_train, y, image_no = 1):\n",
    "    for i in tf.range(image_no):\n",
    "        img = x_train[y]\n",
    "        img = tf.keras.preprocessing.image.array_to_img(img)\n",
    "        img.show()\n",
    "        img.save(f\"Saved Pictures/progress{y}.jpg\")\n"
   ]
  },
  {
   "cell_type": "code",
   "execution_count": 8,
   "metadata": {},
   "outputs": [],
   "source": [
    "# Plotting an image:\n",
    "plot(data, 0)"
   ]
  },
  {
   "cell_type": "code",
   "execution_count": 9,
   "metadata": {},
   "outputs": [],
   "source": [
    "# Creating an easy dataset:\n",
    "x_train = tf.data.Dataset.from_tensor_slices(data).batch(32, drop_remainder = True).shuffle(1000)\n",
    "batch_size = 32"
   ]
  },
  {
   "cell_type": "code",
   "execution_count": 10,
   "metadata": {},
   "outputs": [],
   "source": [
    "# Creating some more variables:\n",
    "coding_size = 100\n",
    "optimizer = tf.keras.optimizers.Nadam()\n",
    "loss = tf.keras.losses.binary_crossentropy"
   ]
  },
  {
   "cell_type": "markdown",
   "metadata": {},
   "source": [
    "# Creating a GAN:"
   ]
  },
  {
   "cell_type": "code",
   "execution_count": 11,
   "metadata": {},
   "outputs": [],
   "source": [
    "# Sequential generator:\n",
    "generator = keras.models.Sequential([\n",
    "    keras.layers.Dense(25 * 25 * 128, input_shape = [coding_size]),\n",
    "    keras.layers.Reshape([25, 25, 128]),\n",
    "    keras.layers.BatchNormalization(),\n",
    "    keras.layers.Conv2DTranspose(64, kernel_size = 5, strides = 2, padding = \"same\", activation = 'selu'),\n",
    "    keras.layers.BatchNormalization(),\n",
    "    keras.layers.Conv2DTranspose(3, kernel_size = 5, strides = 2, padding = \"same\", activation = \"tanh\")\n",
    "])"
   ]
  },
  {
   "cell_type": "code",
   "execution_count": 12,
   "metadata": {},
   "outputs": [],
   "source": [
    "# Sequential discriminator:\n",
    "discriminator = keras.models.Sequential([\n",
    "    keras.layers.Conv2D(64, kernel_size = 5, strides  = 2, padding = \"same\", activation = keras.layers.LeakyReLU(0.2), input_shape = [100, 100, 3]),\n",
    "    keras.layers.Dropout(0.4),\n",
    "    keras.layers.Conv2D(128, kernel_size = 5, strides = 2, padding = \"same\", activation = keras.layers.LeakyReLU(0.2)),\n",
    "    keras.layers.Dropout(0.4),\n",
    "    keras.layers.Flatten(),\n",
    "    keras.layers.Dense(1, activation = \"sigmoid\")\n",
    "])"
   ]
  },
  {
   "cell_type": "code",
   "execution_count": 13,
   "metadata": {},
   "outputs": [],
   "source": [
    "# Creating a gan:\n",
    "gan = keras.models.Sequential([generator, discriminator])"
   ]
  },
  {
   "cell_type": "markdown",
   "metadata": {},
   "source": [
    "# Training the GAN:"
   ]
  },
  {
   "cell_type": "code",
   "execution_count": 14,
   "metadata": {},
   "outputs": [],
   "source": [
    "# General Step:\n",
    "def train_step(model, x, y, loss_fn = loss, optimizer = optimizer):\n",
    "    with tf.GradientTape() as tape:\n",
    "        y_pred = model(x)\n",
    "        loss = loss_fn(y_pred = y_pred, y_true = y)\n",
    "    grads = tape.gradient(loss, model.trainable_variables)\n",
    "    optimizer.apply_gradients(zip(grads, model.trainable_variables))"
   ]
  },
  {
   "cell_type": "code",
   "execution_count": 15,
   "metadata": {},
   "outputs": [],
   "source": [
    "#  Discriminator step:\n",
    "@tf.function\n",
    "def train_d(model, noise, x_batch, batch_size = batch_size):\n",
    "    generator, discriminator = model.layers\n",
    "    predictions = generator(noise)\n",
    "    inputs = tf.concat([predictions, x_batch], axis = 0)\n",
    "    y = tf.constant([[0.]] * batch_size + [[1.]] * batch_size)\n",
    "    discriminator.trainable = True\n",
    "    train_step(discriminator, inputs, y)"
   ]
  },
  {
   "cell_type": "code",
   "execution_count": 16,
   "metadata": {},
   "outputs": [],
   "source": [
    "# Generator step:\n",
    "@tf.function\n",
    "def train_g(model, noise, x_batch, batch_size = batch_size):\n",
    "    discriminator = model.layers[1]\n",
    "    discriminator.trainable = False\n",
    "    y = tf.constant([[1.]] * batch_size)\n",
    "    train_step(model, noise, y)"
   ]
  },
  {
   "cell_type": "code",
   "execution_count": 17,
   "metadata": {},
   "outputs": [],
   "source": [
    "# Predicting values:\n",
    "def predict(model, epoch, batch_size = batch_size, coding_size = coding_size):\n",
    "    noise = tf.random.normal([batch_size, coding_size])\n",
    "    generator = model.layers[0]\n",
    "    predictions = generator(noise)\n",
    "    plot(predictions, epoch)"
   ]
  },
  {
   "cell_type": "code",
   "execution_count": 18,
   "metadata": {},
   "outputs": [
    {
     "name": "stdout",
     "output_type": "stream",
     "text": [
      "Epochs 1 passed.\n",
      "Epochs 2 passed.\n",
      "Epochs 3 passed.\n",
      "Epochs 4 passed.\n",
      "Epochs 5 passed.\n",
      "Epochs 6 passed.\n",
      "Epochs 7 passed.\n",
      "Epochs 8 passed.\n",
      "Epochs 9 passed.\n",
      "Epochs 10 passed.\n"
     ]
    }
   ],
   "source": [
    "# Training Loop:\n",
    "epochs = 100\n",
    "for epoch in range(epochs):\n",
    "    for x_batch in x_train:\n",
    "        # Training the Discriminator:\n",
    "        noise = tf.random.normal([batch_size, coding_size])\n",
    "        train_d(gan, noise, x_batch)\n",
    "        # Training the Generator:\n",
    "        noise = tf.random.normal([batch_size, coding_size])\n",
    "        train_g(gan, noise, x_batch)\n",
    "    print(f\"Epochs {epoch + 1} passed.\")\n",
    "    predict(gan, epoch + 1)"
   ]
  }
 ],
 "metadata": {
  "kernelspec": {
   "display_name": "TensorFlow",
   "language": "python",
   "name": "python3"
  },
  "language_info": {
   "codemirror_mode": {
    "name": "ipython",
    "version": 3
   },
   "file_extension": ".py",
   "mimetype": "text/x-python",
   "name": "python",
   "nbconvert_exporter": "python",
   "pygments_lexer": "ipython3",
   "version": "3.10.8"
  },
  "orig_nbformat": 4,
  "vscode": {
   "interpreter": {
    "hash": "96f15de52aa37c9b354eca37d7e2719c69267d54944717e5178beed509292a45"
   }
  }
 },
 "nbformat": 4,
 "nbformat_minor": 2
}
