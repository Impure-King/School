{
 "cells": [
  {
   "cell_type": "code",
   "execution_count": 1,
   "metadata": {},
   "outputs": [],
   "source": [
    "import cv2\n",
    "# from deepface import DeepFace\n",
    "import os\n",
    "\n",
    "false_data_dir = os.path.join(\"./data\", \"zero\")\n",
    "true_data_dir = os.path.join(\"./data\", \"ones\")"
   ]
  },
  {
   "cell_type": "code",
   "execution_count": 2,
   "metadata": {},
   "outputs": [],
   "source": [
    "if not os.path.exists(false_data_dir):\n",
    "    os.mkdir(false_data_dir)\n",
    "if not os.path.exists(true_data_dir):\n",
    "    os.mkdir(true_data_dir)"
   ]
  },
  {
   "cell_type": "code",
   "execution_count": 3,
   "metadata": {},
   "outputs": [],
   "source": [
    "cam = cv2.VideoCapture(0)\n",
    "cond = False\n",
    "counter = 1\n",
    "while True:\n",
    "    ret, frame = cam.read()\n",
    "    cv2.imshow(\"Face\", frame)\n",
    "    gray = cv2.cvtColor(frame, cv2.COLOR_BGR2GRAY)\n",
    "    if cv2.waitKey(1) == ord('a'):\n",
    "        cond = True\n",
    "    if cv2.waitKey(1) == ord('s'):\n",
    "        cond = False\n",
    "        \n",
    "    if cond:\n",
    "        cv2.imwrite(os.path.join(false_data_dir, f\"image {counter}.png\"), gray)\n",
    "        counter += 1\n",
    "    # Release the video capture and close all OpenCV windows\n",
    "    if cv2.waitKey(1) == ord('q'):\n",
    "        break\n",
    "cam.release()\n",
    "cv2.destroyAllWindows()"
   ]
  },
  {
   "cell_type": "code",
   "execution_count": 4,
   "metadata": {},
   "outputs": [
    {
     "data": {
      "text/plain": [
       "(1070, 897)"
      ]
     },
     "execution_count": 4,
     "metadata": {},
     "output_type": "execute_result"
    }
   ],
   "source": [
    "len(os.listdir(true_data_dir)), len(os.listdir(false_data_dir))"
   ]
  },
  {
   "cell_type": "code",
   "execution_count": 1,
   "metadata": {},
   "outputs": [],
   "source": [
    "# Creating data:\n",
    "import os\n",
    "path = os.path.join(\"./data\")\n",
    "if not os.path.exists(path):\n",
    "    os.mkdir(path)\n",
    "full_path = os.path.join(path, \"Sanchit Image.png\")\n",
    "temp_path = os.path.join(path, \"temp_image.png\")"
   ]
  },
  {
   "cell_type": "code",
   "execution_count": 3,
   "metadata": {},
   "outputs": [
    {
     "name": "stdout",
     "output_type": "stream",
     "text": [
      "Sanchit is not there."
     ]
    }
   ],
   "source": [
    "import cv2\n",
    "from deepface import DeepFace\n",
    "\n",
    "# Load the pre-trained face detection model\n",
    "face_cascade = cv2.CascadeClassifier(cv2.data.haarcascades + 'haarcascade_frontalface_default.xml')\n",
    "\n",
    "# Capture video from the camera (you can change the source if needed)\n",
    "cap = cv2.VideoCapture(0)\n",
    "counter = 0\n",
    "while True:\n",
    "    # Read a frame from the camera\n",
    "    ret, frame = cap.read()\n",
    "    frame_copy = frame.copy()\n",
    "    if counter % 60 == 0:\n",
    "        result = DeepFace.verify(full_path, frame, enforce_detection=False)\n",
    "    # Convert the frame to grayscale for face detection\n",
    "    gray = cv2.cvtColor(frame, cv2.COLOR_BGR2GRAY)\n",
    "\n",
    "    # Detect faces in the frame\n",
    "    faces = face_cascade.detectMultiScale(gray, scaleFactor=1.3, minNeighbors=5, minSize=(30, 30))\n",
    "    # # Draw bounding boxes around detected faces\n",
    "    for (x, y, w, h) in faces:\n",
    "        cv2.rectangle(frame, (x, y), (x + w, y + h), (255, 0, 0), 2)\n",
    "    # Display the frame with bounding boxes\n",
    "    if result['verified']:\n",
    "        print(\"\\rSanchit is there.\", end='', sep='')\n",
    "    else:\n",
    "        print(\"\\rSanchit is not there.\", end='', sep='')\n",
    "        \n",
    "    cv2.imshow('Face Detection', frame)\n",
    "\n",
    "    # Break the loop when the 'q' key is pressed\n",
    "\n",
    "    if cv2.waitKey(2) == ord('s'):\n",
    "        cv2.imwrite(full_path, frame_copy)\n",
    "    \n",
    "    if cv2.waitKey(1) & 0xFF == ord('q'):\n",
    "        break\n",
    "    counter += 1\n",
    "\n",
    "# Release the video capture and close all OpenCV windows\n",
    "cap.release()\n",
    "cv2.destroyAllWindows()"
   ]
  },
  {
   "cell_type": "code",
   "execution_count": null,
   "metadata": {},
   "outputs": [],
   "source": []
  }
 ],
 "metadata": {
  "kernelspec": {
   "display_name": "FaceDetection",
   "language": "python",
   "name": "python3"
  },
  "language_info": {
   "codemirror_mode": {
    "name": "ipython",
    "version": 3
   },
   "file_extension": ".py",
   "mimetype": "text/x-python",
   "name": "python",
   "nbconvert_exporter": "python",
   "pygments_lexer": "ipython3",
   "version": "3.10.12"
  },
  "orig_nbformat": 4
 },
 "nbformat": 4,
 "nbformat_minor": 2
}
