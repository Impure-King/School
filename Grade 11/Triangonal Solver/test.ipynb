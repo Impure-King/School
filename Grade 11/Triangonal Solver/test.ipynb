{
 "cells": [
  {
   "cell_type": "code",
   "execution_count": 1,
   "metadata": {},
   "outputs": [
    {
     "name": "stdout",
     "output_type": "stream",
     "text": [
      "\u001b[32mA triangonal Solver\u001b[0m\n",
      "3.0 4.0\n",
      "25.0 7.0\n",
      "5.0 2.6457513111\n"
     ]
    },
    {
     "data": {
      "image/png": "[encoded data removed]",
      "text/plain": [
       "<Figure size 640x480 with 1 Axes>"
      ]
     },
     "metadata": {},
     "output_type": "display_data"
    }
   ],
   "source": [
    "import matplotlib.pyplot as plt\n",
    "import numpy as np\n",
    "from math_fun import (Sqrt, pythagorean_theorem, pythagorean_theorem_converse)\n",
    "\n",
    "# Overriding the class:\n",
    "class Trigonal_Sqrt(Sqrt):\n",
    "  def __call__(self, inputs=None, string_inputs=None):\n",
    "    self.get_input(inputs, string_inputs)\n",
    "    self.check_negative(False)\n",
    "    self.calc()\n",
    "    self.check_int()\n",
    "    self.convert_int()\n",
    "    return self.sqrt_copy\n",
    "\n",
    "  \n",
    "  \n",
    "\n",
    "side1, string_1 = Sqrt(program_details=\"A triangonal Solver\",\n",
    "                       input_message=\"Enter a side length: \").input_validation(\n",
    "                           negatives_allowed=False)\n",
    "side2, string_2 = Sqrt(\n",
    "    input_message=\"Enter the second side length: \").input_validation(\n",
    "        negatives_allowed=False)\n",
    "\n",
    "print(side1, side2)\n",
    "hyp_2, leg_2 = pythagorean_theorem(side1, side2), pythagorean_theorem_converse(\n",
    "    side1, side2)\n",
    "\n",
    "print(hyp_2, leg_2)\n",
    "\n",
    "hyp, leg = Trigonal_Sqrt()(hyp_2), Trigonal_Sqrt()(leg_2)\n",
    "hyp, leg = float(hyp), float(leg)\n",
    "print(hyp, leg)\n",
    "points = np.array([[0., 0.], [0., side1], [side2, 0]]) + max(side1, side2)/3\n",
    "points2 = np.array([[0., 0.], [0., min(side1, side2)], [leg, 0]]) + max(side1, side2)\n",
    "p = plt.Polygon(points)\n",
    "a = plt.Polygon(points2)\n",
    "for i in [p, a]:\n",
    "  ax = plt.gca()\n",
    "  ax.add_patch(i)\n",
    "  ax.set_xlim(-1, leg + max(side1, side2))\n",
    "  ax.set_ylim(-1, max(side1, side2) + max(side1, side2))\n",
    "  ax.annotate(str(side1), np.mean(points[:2] *2/3, axis=0))\n",
    "  ax.annotate(str(side2), np.mean(np.array([points[0], points[2]]) * 2/3, axis=0))\n",
    "  ax.annotate(f\"{hyp:.4f}\", np.mean(points[1:3], axis=0))\n",
    "  ax.annotate(str(min(side1, side2)), np.mean(points2[:2], axis=0))\n",
    "  ax.annotate(f\"{leg:.4f}\", np.mean(np.array([points2[0], points2[2]]), axis=0))\n",
    "  ax.annotate(str(max(side1, side2)), np.mean(points2[1:3], axis=0))\n",
    "  ax.axis(False)\n",
    "plt.show()"
   ]
  },
  {
   "cell_type": "code",
   "execution_count": null,
   "metadata": {},
   "outputs": [],
   "source": []
  },
  {
   "cell_type": "code",
   "execution_count": null,
   "metadata": {},
   "outputs": [],
   "source": []
  }
 ],
 "metadata": {
  "kernelspec": {
   "display_name": "TensorWrap",
   "language": "python",
   "name": "python3"
  },
  "language_info": {
   "codemirror_mode": {
    "name": "ipython",
    "version": 3
   },
   "file_extension": ".py",
   "mimetype": "text/x-python",
   "name": "python",
   "nbconvert_exporter": "python",
   "pygments_lexer": "ipython3",
   "version": "3.11.5"
  },
  "orig_nbformat": 4
 },
 "nbformat": 4,
 "nbformat_minor": 2
}
