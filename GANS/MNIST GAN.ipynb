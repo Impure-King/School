{
 "cells": [
  {
   "cell_type": "code",
   "execution_count": 1,
   "metadata": {},
   "outputs": [],
   "source": [
    "import os\n",
    "os.environ['TF_CPP_MIN_LOG_LEVEL'] = '3'"
   ]
  },
  {
   "cell_type": "code",
   "execution_count": 2,
   "metadata": {},
   "outputs": [
    {
     "data": {
      "text/plain": [
       "('2.10.0', '2.10.0')"
      ]
     },
     "execution_count": 2,
     "metadata": {},
     "output_type": "execute_result"
    }
   ],
   "source": [
    "import tensorflow as tf\n",
    "from tensorflow import keras\n",
    "tf.__version__, keras.__version__"
   ]
  },
  {
   "cell_type": "code",
   "execution_count": 3,
   "metadata": {},
   "outputs": [],
   "source": [
    "# Importing the dataset:\n",
    "fashion_mnist = tf.keras.datasets.fashion_mnist.load_data()\n",
    "(x_train, y_train), (x_test, y_test) = fashion_mnist"
   ]
  },
  {
   "cell_type": "code",
   "execution_count": 4,
   "metadata": {},
   "outputs": [],
   "source": [
    "# Creating some validation sets:\n",
    "from sklearn.model_selection import train_test_split\n",
    "x_train, x_valid = train_test_split(x_train, test_size = 0.2)"
   ]
  },
  {
   "cell_type": "code",
   "execution_count": 5,
   "metadata": {},
   "outputs": [],
   "source": [
    "# Normalizing the data:\n",
    "x_train, x_test, x_valid = tf.cast(x_train, tf.float32)/255., tf.cast(x_test, tf.float32)/255., tf.cast(x_valid, tf.float32)/255."
   ]
  },
  {
   "cell_type": "code",
   "execution_count": 6,
   "metadata": {},
   "outputs": [],
   "source": [
    "# Creating a model for generation:\n",
    "class Generator(keras.models.Model):\n",
    "    \"\"\"\n",
    "    This is a custom generator responsible for generating MNIST images with subtle accuracy. \n",
    "    Please pair it will a proper 28 x 28 discriminator.\n",
    "    \"\"\"\n",
    "    def __init__(self, act = 'selu', **kwargs):\n",
    "        super(Generator, self).__init__(**kwargs)\n",
    "        self.activation = keras.activations.get(act)\n",
    "        self.noise = keras.layers.Dense(100, activation = self.activation, input_shape = [100])\n",
    "        self.hidden1 = keras.layers.Dense(150, activation = self.activation)\n",
    "        self.hidden2 = keras.layers.Dense(150, activation = self.activation)\n",
    "        self.out = keras.layers.Dense(784, activation = 'sigmoid')\n",
    "        self.reshape = keras.layers.Reshape([28, 28, 1])\n",
    "    def call(self, inputs):\n",
    "        x = self.noise(inputs)\n",
    "        x = self.hidden1(x)\n",
    "        x = self.hidden2(x)\n",
    "        x = self.out(x)\n",
    "        return self.reshape(x)"
   ]
  },
  {
   "cell_type": "code",
   "execution_count": 7,
   "metadata": {},
   "outputs": [],
   "source": [
    "# Creating a discriminator:\n",
    "class Discriminator(keras.models.Model):\n",
    "    def __init__(self, **kwargs):\n",
    "        super(Discriminator, self).__init__(**kwargs)\n",
    "        self.conv1 = keras.layers.Conv2D(32, kernel_size = 5, strides = 2, padding = \"same\", activation = tf.keras.layers.LeakyReLU(0.2), input_shape = [28, 28])\n",
    "        self.conv2 = keras.layers.Conv2D(64, kernel_size = 5, strides = 2, padding = \"same\", activation = tf.keras.layers.LeakyReLU(0.2))\n",
    "        self.dropout = keras.layers.Dropout(0.4)\n",
    "        self.flatten = keras.layers.Flatten()\n",
    "        self.out = keras.layers.Dense(1, activation = 'sigmoid')\n",
    "    def call(self, inputs):\n",
    "        x = self.conv1(inputs)\n",
    "        x = self.dropout(x)\n",
    "        x = self.conv2(x)\n",
    "        x = self.dropout(x)\n",
    "        x = self.flatten(x)\n",
    "        x = self.out(x)\n",
    "        return x"
   ]
  },
  {
   "cell_type": "code",
   "execution_count": 8,
   "metadata": {},
   "outputs": [],
   "source": [
    "# Creating the entire model:\n",
    "model = keras.models.Sequential([Generator(), Discriminator()])"
   ]
  },
  {
   "cell_type": "code",
   "execution_count": 9,
   "metadata": {},
   "outputs": [],
   "source": [
    "# Creating a dataset:\n",
    "batch_size = 32\n",
    "dataset = tf.data.Dataset.from_tensor_slices(x_train).shuffle(1000)\n",
    "dataset = dataset.batch(batch_size = batch_size, drop_remainder = True).prefetch(1)"
   ]
  },
  {
   "cell_type": "code",
   "execution_count": 10,
   "metadata": {},
   "outputs": [],
   "source": [
    "# Creating general training:\n",
    "def train(model, x, y, loss_fn = tf.keras.losses.BinaryCrossentropy(), optimizer = tf.optimizers.Nadam()):\n",
    "    with tf.GradientTape() as tape:\n",
    "        predictions = model(x)\n",
    "        loss = loss_fn(y, predictions)\n",
    "    grads = tape.gradient(loss, model.trainable_weights)\n",
    "    optimizer.apply_gradients(zip(grads, model.trainable_weights))"
   ]
  },
  {
   "cell_type": "code",
   "execution_count": 11,
   "metadata": {},
   "outputs": [],
   "source": [
    "# Creating training steps for discriminator:\n",
    "@tf.function\n",
    "def train_d(model, x_batch, noise):\n",
    "    generator, discriminator = model.layers\n",
    "    generated_images = generator(noise)\n",
    "    input = tf.concat([generated_images, x_batch[..., tf.newaxis]], axis = 0)\n",
    "    y = tf.constant([[0.]] * 32 + [[1.]] * 32) # Creating the outputs to teach the model.\n",
    "    discriminator.trainable = True\n",
    "    train(discriminator, input, y)"
   ]
  },
  {
   "cell_type": "code",
   "execution_count": 12,
   "metadata": {},
   "outputs": [],
   "source": [
    "# Creating training step for generator:\n",
    "@tf.function\n",
    "def train_g(model, noise, batch_size):\n",
    "    generator, discriminator = model.layers\n",
    "    discriminator.trainable = False\n",
    "    y = tf.constant([[1.]] * batch_size)\n",
    "    train(model, noise, y)"
   ]
  },
  {
   "cell_type": "code",
   "execution_count": 13,
   "metadata": {},
   "outputs": [],
   "source": [
    "# Creating a training loop:\n",
    "@tf.function\n",
    "def train_gan(model, dataset, batch_size = 32, codings_size = 100, n_epochs = 20):\n",
    "    for epoch in tf.range(n_epochs):\n",
    "        for x_batch in dataset:\n",
    "            # phase 1 - training the discriminator\n",
    "            noise = tf.random.normal(shape = [batch_size, codings_size])\n",
    "            train_d(model, x_batch, noise)\n",
    "\n",
    "            # phase 2 - training the generator:\n",
    "            noise = tf.random.normal(shape = [batch_size, codings_size])\n",
    "            train_g(model, noise, batch_size)"
   ]
  },
  {
   "cell_type": "code",
   "execution_count": 14,
   "metadata": {},
   "outputs": [],
   "source": [
    "# training the function:\n",
    "train_gan(model, dataset, batch_size)"
   ]
  },
  {
   "cell_type": "code",
   "execution_count": 15,
   "metadata": {},
   "outputs": [],
   "source": [
    "model.trainable = False"
   ]
  },
  {
   "cell_type": "code",
   "execution_count": 16,
   "metadata": {},
   "outputs": [
    {
     "name": "stdout",
     "output_type": "stream",
     "text": [
      "1/1 [==============================] - 0s 67ms/step\n"
     ]
    }
   ],
   "source": [
    "noise = tf.random.normal(shape = [batch_size, 100])\n",
    "encoder = model.layers[0]\n",
    "predictions = encoder.predict(noise)"
   ]
  },
  {
   "cell_type": "code",
   "execution_count": 17,
   "metadata": {},
   "outputs": [],
   "source": [
    "from matplotlib import pyplot as plt"
   ]
  },
  {
   "cell_type": "code",
   "execution_count": 18,
   "metadata": {},
   "outputs": [
    {
     "data": {
      "image/png": "[encoded data removed]",
      "text/plain": [
       "<Figure size 640x480 with 1 Axes>"
      ]
     },
     "metadata": {},
     "output_type": "display_data"
    }
   ],
   "source": [
    "plt.imshow(predictions[0])\n",
    "plt.axis(False)\n",
    "plt.show()"
   ]
  },
  {
   "cell_type": "code",
   "execution_count": 20,
   "metadata": {},
   "outputs": [
    {
     "data": {
      "image/png": "[encoded data removed]",
      "text/plain": [
       "<Figure size 640x480 with 1 Axes>"
      ]
     },
     "metadata": {},
     "output_type": "display_data"
    },
    {
     "data": {
      "image/png": "[encoded data removed]",
      "text/plain": [
       "<Figure size 640x480 with 1 Axes>"
      ]
     },
     "metadata": {},
     "output_type": "display_data"
    },
    {
     "data": {
      "image/png": "[encoded data removed]",
      "text/plain": [
       "<Figure size 640x480 with 1 Axes>"
      ]
     },
     "metadata": {},
     "output_type": "display_data"
    },
    {
     "data": {
      "image/png": "[encoded data removed]",
      "text/plain": [
       "<Figure size 640x480 with 1 Axes>"
      ]
     },
     "metadata": {},
     "output_type": "display_data"
    },
    {
     "data": {
      "image/png": "[encoded data removed]",
      "text/plain": [
       "<Figure size 640x480 with 1 Axes>"
      ]
     },
     "metadata": {},
     "output_type": "display_data"
    },
    {
     "data": {
      "image/png": "[encoded data removed]",
      "text/plain": [
       "<Figure size 640x480 with 1 Axes>"
      ]
     },
     "metadata": {},
     "output_type": "display_data"
    },
    {
     "data": {
      "image/png": "[encoded data removed]",
      "text/plain": [
       "<Figure size 640x480 with 1 Axes>"
      ]
     },
     "metadata": {},
     "output_type": "display_data"
    },
    {
     "data": {
      "image/png": "[encoded data removed]",
      "text/plain": [
       "<Figure size 640x480 with 1 Axes>"
      ]
     },
     "metadata": {},
     "output_type": "display_data"
    },
    {
     "data": {
      "image/png": "[encoded data removed]",
      "text/plain": [
       "<Figure size 640x480 with 1 Axes>"
      ]
     },
     "metadata": {},
     "output_type": "display_data"
    },
    {
     "data": {
      "image/png": "[encoded data removed]",
      "text/plain": [
       "<Figure size 640x480 with 1 Axes>"
      ]
     },
     "metadata": {},
     "output_type": "display_data"
    }
   ],
   "source": [
    "for i in range(10):\n",
    "    plt.imshow(x_test[i])\n",
    "    plt.axis(False)\n",
    "    plt.show()"
   ]
  },
  {
   "cell_type": "code",
   "execution_count": null,
   "metadata": {},
   "outputs": [],
   "source": []
  }
 ],
 "metadata": {
  "kernelspec": {
   "display_name": "Python 3.10.8 ('TensorFlowV2')",
   "language": "python",
   "name": "python3"
  },
  "language_info": {
   "codemirror_mode": {
    "name": "ipython",
    "version": 3
   },
   "file_extension": ".py",
   "mimetype": "text/x-python",
   "name": "python",
   "nbconvert_exporter": "python",
   "pygments_lexer": "ipython3",
   "version": "3.10.8"
  },
  "orig_nbformat": 4,
  "vscode": {
   "interpreter": {
    "hash": "c18c74d3e5b7c71fb88898c260e2de6a72b60b6a8afbb2c28501c4756fc30535"
   }
  }
 },
 "nbformat": 4,
 "nbformat_minor": 2
}
