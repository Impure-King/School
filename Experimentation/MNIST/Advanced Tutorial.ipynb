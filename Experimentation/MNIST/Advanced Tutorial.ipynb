{
 "cells": [
  {
   "cell_type": "code",
   "execution_count": 1,
   "metadata": {},
   "outputs": [],
   "source": [
    "import os\n",
    "os.environ[\"TF_CPP_MIN_LOG_LEVEL\"] = '3'"
   ]
  },
  {
   "cell_type": "code",
   "execution_count": 2,
   "metadata": {},
   "outputs": [],
   "source": [
    "import tensorflow as tf\n",
    "from tensorflow import keras"
   ]
  },
  {
   "cell_type": "code",
   "execution_count": 3,
   "metadata": {},
   "outputs": [],
   "source": [
    "# Loading the data:\n",
    "(x_train_full, y_train_full), (x_test, y_test) = keras.datasets.fashion_mnist.load_data()"
   ]
  },
  {
   "cell_type": "code",
   "execution_count": 4,
   "metadata": {},
   "outputs": [],
   "source": [
    "# Creating validation data:\n",
    "from sklearn.model_selection import train_test_split\n",
    "x_train, x_valid, y_train, y_valid = train_test_split(x_train_full, y_train_full, test_size = 0.1)"
   ]
  },
  {
   "cell_type": "code",
   "execution_count": 5,
   "metadata": {},
   "outputs": [],
   "source": [
    "# Creating preprocessing function:\n",
    "@tf.function\n",
    "def preprocess(data):\n",
    "    data = tf.image.random_flip_left_right(data)\n",
    "    data = tf.image.random_flip_up_down(data)\n",
    "    out = tf.cast(data, tf.float32)/255.\n",
    "    return out"
   ]
  },
  {
   "cell_type": "code",
   "execution_count": 6,
   "metadata": {},
   "outputs": [],
   "source": [
    "# Preprocessing the images:\n",
    "x_train, x_valid, x_test = preprocess(x_train), preprocess(x_valid), preprocess(x_test)\n",
    "x_train, x_valid, x_test = x_train[..., tf.newaxis], x_valid[..., tf.newaxis], x_test[..., tf.newaxis]"
   ]
  },
  {
   "cell_type": "code",
   "execution_count": 7,
   "metadata": {},
   "outputs": [],
   "source": [
    "# Shuffling and creating batches:\n",
    "train_set = tf.data.Dataset.from_tensor_slices((x_train, y_train)).shuffle(10000).batch(32)\n",
    "valid_set = tf.data.Dataset.from_tensor_slices((x_valid, y_valid)).batch(32)\n",
    "test_set = tf.data.Dataset.from_tensor_slices((x_test, y_test)).batch(32)"
   ]
  },
  {
   "cell_type": "code",
   "execution_count": 8,
   "metadata": {},
   "outputs": [],
   "source": [
    "# Creating a subclassing model:\n",
    "class FashionNet(keras.Model):\n",
    "    def __init__(self, **kwargs):\n",
    "        super(FashionNet, self).__init__(**kwargs)\n",
    "        self.conv1 = keras.layers.Conv2D(64, 7, activation = tf.nn.relu, padding = 'same')\n",
    "        self.conv2 = keras.layers.Conv2D(128, 3, activation = tf.nn.relu, padding = 'same')\n",
    "        self.flatten = keras.layers.Flatten()\n",
    "        self.hidden1 = keras.layers.Dense(128, activation = tf.nn.relu)\n",
    "        self.hidden2 = keras.layers.Dense(64, activation = tf.nn.relu)\n",
    "        self.out = keras.layers.Dense(10)\n",
    "    \n",
    "    def call(self, x):\n",
    "        x = self.conv1(x)\n",
    "        x = self.conv2(x)\n",
    "        x = self.flatten(x)\n",
    "        x = self.hidden1(x)\n",
    "        x = self.hidden2(x)\n",
    "        return self.out(x)"
   ]
  },
  {
   "cell_type": "code",
   "execution_count": 9,
   "metadata": {},
   "outputs": [],
   "source": [
    "# Loading the model:\n",
    "model = FashionNet()"
   ]
  },
  {
   "cell_type": "code",
   "execution_count": 10,
   "metadata": {},
   "outputs": [],
   "source": [
    "# Creating loss and optimizers:\n",
    "loss = keras.losses.SparseCategoricalCrossentropy(from_logits = True)\n",
    "optimizer = keras.optimizers.SGD()\n",
    "metrics = keras.metrics.SparseCategoricalAccuracy()"
   ]
  },
  {
   "cell_type": "code",
   "execution_count": 11,
   "metadata": {},
   "outputs": [],
   "source": [
    "# Creating a custom training loop:\n",
    "@tf.function\n",
    "def train(x_train, y_train, loss_fn = loss, optimizer = optimizer, metrics = metrics, model = model):\n",
    "    with tf.GradientTape() as tape:\n",
    "        y_pred = model(x_train, training = True)\n",
    "        loss = loss_fn(y_train, y_pred)\n",
    "        metric = metrics(y_train, y_pred)\n",
    "    grad = tape.gradient(loss, model.trainable_variables)\n",
    "    optimizer.apply_gradients(zip(grad, model.trainable_variables))\n",
    "    return metric, loss"
   ]
  },
  {
   "cell_type": "code",
   "execution_count": 12,
   "metadata": {},
   "outputs": [
    {
     "name": "stdout",
     "output_type": "stream",
     "text": [
      "Epochs: 1     Loss: 0.43631964921951294     Accuracy: 0.7612037062644958 \n",
      "Epochs: 2     Loss: 0.3354431986808777     Accuracy: 0.8486666679382324 \n",
      "Epochs: 3     Loss: 0.246651753783226     Accuracy: 0.8685555458068848 \n",
      "Epochs: 4     Loss: 0.37773269414901733     Accuracy: 0.8793148398399353 \n",
      "Epochs: 5     Loss: 0.21964392066001892     Accuracy: 0.8873147964477539 \n",
      "Epochs: 6     Loss: 0.25400036573410034     Accuracy: 0.8942777514457703 \n",
      "Epochs: 7     Loss: 0.08701780438423157     Accuracy: 0.9006666541099548 \n"
     ]
    }
   ],
   "source": [
    "# Creating a training loop:\n",
    "for epoch in range(7):\n",
    "    metrics.reset_state()\n",
    "    for x_train, y_train in train_set:\n",
    "        metric, losses = train(x_train, y_train)\n",
    "    \n",
    "    print(f\"Epochs: {epoch + 1}     Loss: {losses}     Accuracy: {metric} \")"
   ]
  },
  {
   "cell_type": "code",
   "execution_count": 13,
   "metadata": {},
   "outputs": [
    {
     "name": "stdout",
     "output_type": "stream",
     "text": [
      "313/313 [==============================] - 1s 2ms/step - loss: 9.5744 - accuracy: 0.1013\n"
     ]
    },
    {
     "data": {
      "text/plain": [
       "[9.574402809143066, 0.10130000114440918]"
      ]
     },
     "execution_count": 13,
     "metadata": {},
     "output_type": "execute_result"
    }
   ],
   "source": [
    "# Compiling model to evaluate:\n",
    "model.compile(\n",
    "    loss = loss,\n",
    "    optimizer = optimizer,\n",
    "    metrics = ['accuracy']\n",
    ")\n",
    "model.evaluate(test_set)"
   ]
  },
  {
   "cell_type": "code",
   "execution_count": null,
   "metadata": {},
   "outputs": [],
   "source": []
  }
 ],
 "metadata": {
  "kernelspec": {
   "display_name": "Python 3.10.8 ('TensorFlowV2')",
   "language": "python",
   "name": "python3"
  },
  "language_info": {
   "codemirror_mode": {
    "name": "ipython",
    "version": 3
   },
   "file_extension": ".py",
   "mimetype": "text/x-python",
   "name": "python",
   "nbconvert_exporter": "python",
   "pygments_lexer": "ipython3",
   "version": "3.10.8"
  },
  "orig_nbformat": 4,
  "vscode": {
   "interpreter": {
    "hash": "c18c74d3e5b7c71fb88898c260e2de6a72b60b6a8afbb2c28501c4756fc30535"
   }
  }
 },
 "nbformat": 4,
 "nbformat_minor": 2
}
